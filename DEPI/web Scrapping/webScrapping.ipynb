{
 "cells": [
  {
   "cell_type": "markdown",
   "id": "350c57af",
   "metadata": {},
   "source": [
    "# Web Scraping \n",
    "\n",
    "![web Scraping](web.jpg)"
   ]
  },
  {
   "cell_type": "markdown",
   "id": "371a2313",
   "metadata": {},
   "source": [
    "## what is web scraping \n",
    "is method to extract data from a website that does not have an API, or we want to extract LOT of data\n",
    "which we can not do through an API due to rate limiting.\n",
    "***\n"
   ]
  },
  {
   "cell_type": "markdown",
   "id": "1e0b01a4",
   "metadata": {},
   "source": [
    "## Libraries\n",
    "    - BeautifulSoup(bs4) \n",
    "    - Lxml \n",
    "    - Selenium \n",
    "    - Re \n",
    "    - scrapy \n",
    "***"
   ]
  },
  {
   "cell_type": "markdown",
   "id": "15dfe12f",
   "metadata": {},
   "source": [
    "## For web scrapping we need : \n",
    "- requests \n",
    "- beautifulsoup4\n",
    "- lxlml\n",
    "\n",
    "## To install this : \n",
    "- pip install requests \n",
    "- pip install beautifulsoup4 \n",
    "- pip install lxml\n",
    "***"
   ]
  },
  {
   "cell_type": "markdown",
   "id": "dbf56449",
   "metadata": {},
   "source": [
    "## First we need import "
   ]
  },
  {
   "cell_type": "code",
   "execution_count": 2,
   "id": "737852f8",
   "metadata": {},
   "outputs": [],
   "source": [
    "import csv\n",
    "import requests \n",
    "from bs4 import BeautifulSoup"
   ]
  },
  {
   "cell_type": "markdown",
   "id": "bdd24ce1",
   "metadata": {},
   "source": [
    "# Web scrapping like dom !!!\n",
    "## علشان تقدر تجيب اي بيانات انت عايزها حاول تمشي علي الخطوات دي : \n",
    "\n",
    "### 1- ابدأ شوف الحاجه اللي انت عايزها موجوده فين و اي اللي بيميزها(div , class , p ,....)\n",
    "### 2- شوف ازاي هتوصلها \n",
    "### 3- الطريق لو كان طويل حاول تقسمه و تخلي كل جزء مهم لوحده علشان لو هتوصل منه لاكثر من حاجه\n"
   ]
  }
 ],
 "metadata": {
  "kernelspec": {
   "display_name": "Python 3",
   "language": "python",
   "name": "python3"
  },
  "language_info": {
   "codemirror_mode": {
    "name": "ipython",
    "version": 3
   },
   "file_extension": ".py",
   "mimetype": "text/x-python",
   "name": "python",
   "nbconvert_exporter": "python",
   "pygments_lexer": "ipython3",
   "version": "3.12.0"
  }
 },
 "nbformat": 4,
 "nbformat_minor": 5
}
