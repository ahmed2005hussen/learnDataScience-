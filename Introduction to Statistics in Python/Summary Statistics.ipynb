{
 "cells": [
  {
   "cell_type": "markdown",
   "id": "37ca2f2a",
   "metadata": {},
   "source": [
    "# Types of statistics\n",
    "\n",
    "## Descriptive statistics\n",
    "- Descripe and summarize date\n",
    "- بتتعامل مع البيانات اللي جمعتها فقط، من غير ما تعمم أو تتنبأ\n",
    "- بتستخدم أدوات زي: المتوسط (Mean)، الوسيط (Median)، المنوال (Mode)، الانحراف المعياري (Standard Deviation)، الرسوم البيانية. \n",
    "--- \n",
    "## Inferential statistics \n",
    "  - Use a sample of data to make inferences about a larger population \n",
    "  - الاستنتاج أو التنبؤ بناءً على عينة من البيانات\n",
    "    \n",
    "    "
   ]
  },
  {
   "cell_type": "markdown",
   "id": "11298cfb",
   "metadata": {},
   "source": [
    "---\n",
    "# Numeric (Quantitative)\n",
    "- Continuous (Measured)\n",
    "- - Airplane speed\n",
    "- - Time spent waiting in line\n",
    "- Discrete (Counted)\n",
    "- - Number of pets\n",
    "- - Number of packages shipped\n",
    "---\n",
    "# Categorical (Qualitative)\n",
    "- Nominal (Unordered)\n",
    "- - Married/unmarried\n",
    "- - Country of residence\n",
    "- Ordinal (Ordered)\n",
    "---"
   ]
  },
  {
   "cell_type": "markdown",
   "id": "22084b3c",
   "metadata": {},
   "source": [
    "# Variance\n",
    "- Average distance from each data point to the data's mean\n",
    "## Calculating variance\n",
    "1. Subtract mean from each data point\n",
    "2. Square each distance\n",
    "3. Sum squared distances\n",
    "4. Divide by number of data points - 1\n",
    "# OR\n",
    "## Use np.var()\n",
    "- np.var(taple[\"column\"], ddof = 1 )\n",
    "---\n"
   ]
  },
  {
   "cell_type": "markdown",
   "id": "5caef42f",
   "metadata": {},
   "source": [
    "# Standard deviation\n",
    "- np.sqrt(np.var(Table['column'], ddof=1))\n",
    "# OR\n",
    "np.std(Table['column'], ddof=1)\n"
   ]
  },
  {
   "cell_type": "markdown",
   "id": "f8fec774",
   "metadata": {},
   "source": [
    "# Quantiles\n",
    "np.quantile(Table['Column'], precentge)\n",
    "- np.quantile(msleep['sleep_total'], 0.5) # 50 %\n",
    "\n",
    "np.quantile(msleep['sleep_total'], [0, 0.25, 0.5, 0.75, 1]) # 0 ------- 0.25 ------- 0.5 ------- 0.75 ------- 1\n",
    "\n",
    "OR \n",
    "\n",
    "np.linspace(start, stop, num)\n",
    "np.quantile(msleep['sleep_total'], np.linspace(0, 1, 4))\n",
    "\n",
    "# Interquartile range (IQR)\n",
    "## Height of the box in a boxplot\n",
    "\n",
    "np.quantile(msleep['sleep_total'], 0.75) - np.quantile(msleep['sleep_total'], 0.25)\n",
    "\n",
    "OR\n",
    "\n",
    "from scipy.stats import iqr\n",
    "iqr(msleep['sleep_total'])\n",
    "\n",
    "\n",
    "# Outliers\n",
    "\n",
    "data < Q1 − 1.5 × IQR  \n",
    "\n",
    "or\n",
    "\n",
    "data > Q3 + 1.5 × IQR\n",
    "\n",
    "# Finding outliers\n",
    "\n",
    "from scipy.stats import iqr\n",
    "\n",
    "iqr = iqr(msleep['bodywt'])\n",
    "\n",
    "lower_threshold = np.quantile(msleep['bodywt'], 0.25) - 1.5 * iqr\n",
    "\n",
    "upper_threshold = np.quantile(msleep['bodywt'], 0.75) + 1.5 * iqr\n",
    "\n",
    "msleep[(msleep['bodywt'] < lower_threshold) | (msleep['bodywt'] > upper_threshold)]\n"
   ]
  }
 ],
 "metadata": {
  "language_info": {
   "name": "python"
  }
 },
 "nbformat": 4,
 "nbformat_minor": 5
}
