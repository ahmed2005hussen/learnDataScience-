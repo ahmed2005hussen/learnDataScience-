{
 "cells": [
  {
   "cell_type": "markdown",
   "id": "db5bd2ce-918a-4f7d-a927-a3ea74c4b456",
   "metadata": {},
   "source": [
    "The Nobel Prize has been among the most prestigious international awards since 1901. Each year, awards are bestowed in chemistry, literature, physics, physiology or medicine, economics, and peace. In addition to the honor, prestige, and substantial prize money, the recipient also gets a gold medal with an image of Alfred Nobel (1833 - 1896), who established the prize.\n",
    "\n",
    "![](Nobel_Prize.png)\n",
    "\n",
    "The Nobel Foundation has made a dataset available of all prize winners from the outset of the awards from 1901 to 2023. The dataset used in this project is from the Nobel Prize API and is available in the `nobel.csv` file in the `data` folder.\n",
    "\n",
    "In this project, you'll get a chance to explore and answer several questions related to this prizewinning data. And we encourage you then to explore further questions that you're interested in!"
   ]
  },
  {
   "cell_type": "code",
   "execution_count": 2,
   "id": "11fd5946-7bd1-495c-aa7f-ff6e7e4a350b",
   "metadata": {},
   "outputs": [
    {
     "name": "stdout",
     "output_type": "stream",
     "text": [
      "What is the most commonly awarded gender and birth country?\n",
      "Number Male: 905\n",
      "Number Male: 65\n",
      "Top Gender : Male\n",
      "Count Plot : \n"
     ]
    },
    {
     "data": {
      "image/png": "[encoded data removed]",
      "text/plain": [
       "<Figure size 600.25x500 with 1 Axes>"
      ]
     },
     "metadata": {},
     "output_type": "display_data"
    },
    {
     "name": "stdout",
     "output_type": "stream",
     "text": [
      "-----------------\n",
      "Which decade had the highest ratio of US-born Nobel Prize winners to total winners in all categories?\n",
      "the highest ratio of US-born Nobel Prize winners to total winners in all categories : 2000\n",
      "-----------------\n",
      "Which decade and Nobel Prize category combination had the highest proportion of female laureates?\n",
      "{np.int64(2020): 'Literature'}\n",
      "-----------------\n",
      "Who was the first woman to receive a Nobel Prize, and in what category?\n",
      "Marie Curie, née Sklodowska Physics\n",
      "-----------------\n",
      "Which individuals or organizations have won more than one Nobel Prize throughout the years?\n",
      "['Comité international de la Croix Rouge (International Committee of the Red Cross)', 'Frederick Sanger', 'John Bardeen', 'Linus Carl Pauling', 'Marie Curie, née Sklodowska', 'Office of the United Nations High Commissioner for Refugees (UNHCR)']\n"
     ]
    }
   ],
   "source": [
    "# Loading in required libraries\n",
    "import pandas as pd\n",
    "import seaborn as sns\n",
    "import numpy as np\n",
    "import matplotlib.pyplot as plt\n",
    "\n",
    "df = pd.read_csv(r\"data\\nobel.csv\")\n",
    "\n",
    "# What is the most commonly awarded gender and birth country?\n",
    "# Store your answers as string variables top_gender and top_country.\n",
    "\n",
    "print(\"What is the most commonly awarded gender and birth country?\")\n",
    "male = df[df[\"sex\"] == \"Male\"]\n",
    "count_male = male[\"prize\"].count()\n",
    "\n",
    "print(f\"Number Male: {count_male}\")\n",
    "female = df[df[\"sex\"] == \"Female\"]\n",
    "count_female = female[\"prize\"].count()\n",
    "print(f\"Number Male: {count_female}\")\n",
    "\n",
    "top_gender = \"\"\n",
    "if count_male > count_female: \n",
    "    top_gender = \"Male\"\n",
    "else : \n",
    "    top_gender = \"female\"\n",
    "\n",
    "print(f\"Top Gender : {top_gender}\")\n",
    "\n",
    "\n",
    "print('Count Plot : ')\n",
    "g = sns.catplot(kind = \"count\" , x = \"sex\" , hue=\"sex\" , data = df)\n",
    "ax = g.ax             \n",
    "ax.bar_label(ax.containers[0])\n",
    "ax.bar_label(ax.containers[1])\n",
    "plt.show()\n",
    "\n",
    "top_country = df[\"birth_country\"].value_counts().idxmax()\n",
    "\n",
    "# -------------------------------------------\n",
    "\n",
    "# Which decade had the highest ratio of US-born Nobel Prize winners to total winners in all categories?\n",
    "\n",
    "# Store this as an integer called max_decade_usa.\n",
    "\n",
    "print(\"-----------------\")\n",
    "\n",
    "print(\"Which decade had the highest ratio of US-born Nobel Prize winners to total winners in all categories?\")\n",
    "\n",
    "df[\"decade\"] = (df[\"year\"] // 10) * 10 \n",
    "\n",
    "total_decades = df.groupby(\"decade\")[\"prize\"].count()\n",
    "\n",
    "usa_decades = df[df[\"birth_country\"] == \"United States of America\"].groupby(\"decade\")[\"prize\"].count()\n",
    "\n",
    "ratio = usa_decades/ total_decades\n",
    "\n",
    "max_decade_usa = ratio.idxmax()\n",
    "\n",
    "print(f\"the highest ratio of US-born Nobel Prize winners to total winners in all categories : {max_decade_usa}\")\n",
    "# -------------------------------------\n",
    "\n",
    "# Which decade and Nobel Prize category combination had the highest proportion of female laureates?\n",
    "\n",
    "# Store this as a dictionary called max_female_dict where the decade is the key and the category is the value.\n",
    "# There should only be one key:value pair.\n",
    "\n",
    "print(\"-----------------\")\n",
    "print(\"Which decade and Nobel Prize category combination had the highest proportion of female laureates?\")\n",
    "\n",
    "total_decades = df.groupby([\"decade\", \"category\"])[\"prize\"].count()\n",
    "female_decade = df[df[\"sex\"] == \"Female\"].groupby([\"decade\", \"category\"])[\"prize\"].count()\n",
    "\n",
    "ratio = female_decade / total_decades\n",
    "\n",
    "key = ratio.idxmax()\n",
    "max_female_dict = {key[0]:key[1]}\n",
    "print(max_female_dict)\n",
    "\n",
    "# ---------------------------------------\n",
    "\n",
    "# Who was the first woman to receive a Nobel Prize, and in what category?\n",
    "\n",
    "# Save your string answers as first_woman_name and first_woman_category.\n",
    "\n",
    "\n",
    "print(\"-----------------\")\n",
    "print(\"Who was the first woman to receive a Nobel Prize, and in what category?\")\n",
    "\n",
    "\n",
    "woman_data = df[df[\"sex\"] == \"Female\"]\n",
    "first_year = woman_data[\"year\"].min()\n",
    "first_woman = woman_data[woman_data[\"year\"] == first_year]\n",
    "first_woman_name = first_woman[\"full_name\"].iloc[0]\n",
    "first_woman_category = first_woman[\"category\"].iloc[0]\n",
    "print(first_woman_name , first_woman_category)\n",
    "# ---------------------------------------\n",
    "\n",
    "# Which individuals or organizations have won more than one Nobel Prize throughout the years?\n",
    "\n",
    "# Store the full names in a list named repeat_list.\n",
    "print(\"-----------------\")\n",
    "print(\"Which individuals or organizations have won more than one Nobel Prize throughout the years?\")\n",
    "one_or_more = df.groupby(\"full_name\")[\"year\"].count()\n",
    "more_one = one_or_more[one_or_more > 1]\n",
    "repeat_list = list(more_one.index)\n",
    "print(repeat_list)\n"
   ]
  },
  {
   "cell_type": "code",
   "execution_count": null,
   "id": "5f8d4875",
   "metadata": {},
   "outputs": [],
   "source": [
    "\n"
   ]
  }
 ],
 "metadata": {
  "editor": "DataCamp Workspace",
  "kernelspec": {
   "display_name": "Python 3",
   "language": "python",
   "name": "python3"
  },
  "language_info": {
   "codemirror_mode": {
    "name": "ipython",
    "version": 3
   },
   "file_extension": ".py",
   "mimetype": "text/x-python",
   "name": "python",
   "nbconvert_exporter": "python",
   "pygments_lexer": "ipython3",
   "version": "3.12.0"
  }
 },
 "nbformat": 4,
 "nbformat_minor": 5
}
