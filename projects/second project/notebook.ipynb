{
 "cells": [
  {
   "cell_type": "markdown",
   "id": "fe0ea788-58dd-459e-8976-fafdb5c05c6d",
   "metadata": {},
   "source": [
    "![New York City schoolbus](schoolbus.jpg)\n",
    "\n",
    "Photo by [Jannis Lucas](https://unsplash.com/@jannis_lucas) on [Unsplash](https://unsplash.com).\n",
    "<br>\n",
    "\n",
    "Every year, American high school students take SATs, which are standardized tests intended to measure literacy, numeracy, and writing skills. There are three sections - reading, math, and writing, each with a **maximum score of 800 points**. These tests are extremely important for students and colleges, as they play a pivotal role in the admissions process.\n",
    "\n",
    "Analyzing the performance of schools is important for a variety of stakeholders, including policy and education professionals, researchers, government, and even parents considering which school their children should attend. \n",
    "\n",
    "You have been provided with a dataset called `schools.csv`, which is previewed below.\n",
    "\n",
    "You have been tasked with answering three key questions about New York City (NYC) public school SAT performance."
   ]
  },
  {
   "cell_type": "code",
   "execution_count": 14,
   "id": "d0eb4f16-5a99-460d-a5ba-706b7ef0bbe7",
   "metadata": {
    "executionCancelledAt": null,
    "executionTime": 53,
    "id": "bA5ajAmk7XH6",
    "lastExecutedAt": 1694166994771,
    "lastScheduledRunId": null,
    "lastSuccessfullyExecutedCode": "# Re-run this cell \nimport pandas as pd\n\n# Read in the data\nschools = pd.read_csv(\"schools.csv\")\n\n# Preview the data\nschools.head()\n\n# Start coding here...",
    "outputsMetadata": {
     "0": {
      "height": 550,
      "tableState": {},
      "type": "dataFrame"
     }
    }
   },
   "outputs": [
    {
     "name": "stdout",
     "output_type": "stream",
     "text": [
      "     borough  num_schools  average_SAT  std_SAT\n",
      "2  Manhattan           89      1340.13   230.29\n"
     ]
    }
   ],
   "source": [
    "# Re-run this cell \n",
    "import pandas as pd\n",
    "\n",
    "# Read in the data\n",
    "schools = pd.read_csv(\"schools.csv\")\n",
    "\n",
    "# Preview the data\n",
    "schools.head()\n",
    "\n",
    "#  Which NYC schools have the best math results?\n",
    "\n",
    "# The best math results are at least 80% of the *maximum possible score of 800* for math.\n",
    "# Save your results in a pandas DataFrame called best_math_schools, including \"school_name\" and \"average_math\" columns,\n",
    "# sorted by \"average_math\" in descending order.\n",
    "\n",
    "best_math_schools = schools.loc[schools[\"average_math\"] >= 640 , [\"school_name\" , \"average_math\"]].sort_values(\"average_math\" , ascending= False)\n",
    "\n",
    "# What are the top 10 performing schools based on the combined SAT scores?\n",
    "# Save your results as a pandas DataFrame called top_10_schools containing the \"school_name\" and a new column named \"total_SAT\",\n",
    "# with results ordered by \"total_SAT\" in descending order (\"total_SAT\" being the sum of math, reading, and writing scores).\n",
    "\n",
    "top_10_schools = schools.copy().fillna(0)\n",
    "top_10_schools[\"total_SAT\"] = top_10_schools[\"average_reading\"] + top_10_schools[\"average_writing\"]+  top_10_schools[\"average_math\"]\n",
    "top_10_schools = top_10_schools[[\"school_name\",\"total_SAT\"]].sort_values(\"total_SAT\" , ascending=False).head(10)\n",
    "\n",
    "# Which single borough has the largest standard deviation in the combined SAT score?\n",
    "\n",
    "# Save your results as a pandas DataFrame called largest_std_dev.\n",
    "# The DataFrame should contain one row, with:\n",
    "# \"borough\" - the name of the NYC borough with the largest standard deviation of \"total_SAT\".\n",
    "# \"num_schools\" - the number of schools in the borough.\n",
    "# \"average_SAT\" - the mean of \"total_SAT\".\n",
    "# \"std_SAT\" - the standard deviation of \"total_SAT\".\n",
    "\n",
    "largest_std_dev = schools.copy().fillna(0)\n",
    "\n",
    "largest_std_dev[\"total_SAT\"] = largest_std_dev[\"average_reading\"] + largest_std_dev[\"average_writing\"]+  largest_std_dev[\"average_math\"] \n",
    "\n",
    "largest_std_dev = largest_std_dev.groupby(\"borough\").agg(\n",
    "    num_schools = (\"school_name\", \"count\"),\n",
    "    average_SAT = (\"total_SAT\" , \"mean\"),\n",
    "    std_SAT = (\"total_SAT\" , \"std\")\n",
    ").reset_index()\n",
    "largest_std_dev = largest_std_dev.sort_values(\"std_SAT\" , ascending= False).head(1)\n",
    "largest_std_dev = largest_std_dev.round(2)\n",
    "print(largest_std_dev)"
   ]
  }
 ],
 "metadata": {
  "editor": "DataLab",
  "kernelspec": {
   "display_name": "Python 3",
   "language": "python",
   "name": "python3"
  },
  "language_info": {
   "codemirror_mode": {
    "name": "ipython",
    "version": 3
   },
   "file_extension": ".py",
   "mimetype": "text/x-python",
   "name": "python",
   "nbconvert_exporter": "python",
   "pygments_lexer": "ipython3",
   "version": "3.12.0"
  }
 },
 "nbformat": 4,
 "nbformat_minor": 5
}
